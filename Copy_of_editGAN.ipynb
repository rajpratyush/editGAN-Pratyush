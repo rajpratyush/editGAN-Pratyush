{
  "nbformat": 4,
  "nbformat_minor": 0,
  "metadata": {
    "colab": {
      "provenance": [],
      "private_outputs": true,
      "machine_shape": "hm"
    },
    "kernelspec": {
      "name": "python3",
      "display_name": "Python 3"
    },
    "language_info": {
      "name": "python"
    },
    "accelerator": "GPU",
    "gpuClass": "premium"
  },
  "cells": [
    {
      "cell_type": "code",
      "source": [
        "gpu_info = !nvidia-smi\n",
        "gpu_info = '\\n'.join(gpu_info)\n",
        "if gpu_info.find('failed') >= 0:\n",
        "  print('Not connected to a GPU')\n",
        "else:\n",
        "  print(gpu_info)"
      ],
      "metadata": {
        "id": "ADUIYIKKx7lw"
      },
      "execution_count": null,
      "outputs": []
    },
    {
      "cell_type": "code",
      "source": [
        "from psutil import virtual_memory\n",
        "ram_gb = virtual_memory().total / 1e9\n",
        "print('Your runtime has {:.1f} gigabytes of available RAM\\n'.format(ram_gb))\n",
        "\n",
        "if ram_gb < 20:\n",
        "  print('Not using a high-RAM runtime')\n",
        "else:\n",
        "  print('You are using a high-RAM runtime!')"
      ],
      "metadata": {
        "id": "_1lkdxmRyY4l"
      },
      "execution_count": null,
      "outputs": []
    },
    {
      "cell_type": "code",
      "execution_count": null,
      "metadata": {
        "id": "ZWF8ZlRMmPeP"
      },
      "outputs": [],
      "source": [
        "#!git clone https://github.com/dubtor/EditGAN-Robert.git"
      ]
    },
    {
      "cell_type": "code",
      "source": [
        "!pip install Ninja"
      ],
      "metadata": {
        "id": "n11oCyd_Hknv"
      },
      "execution_count": null,
      "outputs": []
    },
    {
      "cell_type": "code",
      "source": [
        "!pip install pyngrok"
      ],
      "metadata": {
        "id": "c00vfrxFeG0e"
      },
      "execution_count": null,
      "outputs": []
    },
    {
      "cell_type": "code",
      "source": [
        "!pip install Flask_Cors"
      ],
      "metadata": {
        "id": "V5gROhqUIkH8"
      },
      "execution_count": null,
      "outputs": []
    },
    {
      "cell_type": "code",
      "source": [
        "#!pip install Flask==2.0.1 Flask_Cors==3.0.10"
      ],
      "metadata": {
        "id": "O2s-KdKkNC3b"
      },
      "execution_count": null,
      "outputs": []
    },
    {
      "cell_type": "code",
      "source": [
        "#!pip install imageio=2.15.0"
      ],
      "metadata": {
        "id": "1hHtoTn-HPPz"
      },
      "execution_count": null,
      "outputs": []
    },
    {
      "cell_type": "code",
      "source": [
        "#!pip install ipdb==0.13.9 numpy==1.21.2 Pillow==9.0.1 scikit_image==0.15.0"
      ],
      "metadata": {
        "id": "htwF23XqNSGu"
      },
      "execution_count": null,
      "outputs": []
    },
    {
      "cell_type": "code",
      "source": [
        "!pip install imgaug==0.2.6 scikit_image==0.15.0"
      ],
      "metadata": {
        "id": "xp7KlUWOIMmv"
      },
      "execution_count": null,
      "outputs": []
    },
    {
      "cell_type": "code",
      "source": [
        "#!pip install scikit-image tqdm==4.62.1"
      ],
      "metadata": {
        "id": "pgH42Zt1NxUD"
      },
      "execution_count": null,
      "outputs": []
    },
    {
      "cell_type": "code",
      "source": [
        "!pip install torch torchvision --extra-index-url https://download.pytorch.org/whl/cu113 --no-cache-dir --"
      ],
      "metadata": {
        "id": "tzLiPgctY90W"
      },
      "execution_count": null,
      "outputs": []
    },
    {
      "cell_type": "code",
      "source": [
        "#%cd EditGAN-Robert"
      ],
      "metadata": {
        "id": "a1Atawd9nma4"
      },
      "execution_count": null,
      "outputs": []
    },
    {
      "cell_type": "code",
      "source": [
        "#!gdown 10d8CSnUI_Aio0_HujiaUq01afgWz71tJ "
      ],
      "metadata": {
        "id": "SGw33HjwaiwU"
      },
      "execution_count": null,
      "outputs": []
    },
    {
      "cell_type": "code",
      "source": [
        "#!unzip -q -o EditGAN.zip\n",
        "#!rm EditGAN.zip\n",
        "#!rm -rf __MACOSX"
      ],
      "metadata": {
        "id": "_pdpBh4Ba6TX"
      },
      "execution_count": null,
      "outputs": []
    },
    {
      "cell_type": "markdown",
      "source": [
        "\n",
        "# Restart Environment"
      ],
      "metadata": {
        "id": "_14QrfgIdpyt"
      }
    },
    {
      "cell_type": "code",
      "source": [
        "\n",
        "from google.colab import drive\n",
        "\n",
        "drive.mount('/content/gdrive/', force_remount=True)"
      ],
      "metadata": {
        "id": "zgAFYkAi42Gi"
      },
      "execution_count": null,
      "outputs": []
    },
    {
      "cell_type": "code",
      "source": [
        "%cd gdrive/MyDrive"
      ],
      "metadata": {
        "id": "aHUPRfVx42QZ"
      },
      "execution_count": null,
      "outputs": []
    },
    {
      "cell_type": "code",
      "source": [
        "%cd editGAN-Pratyush"
      ],
      "metadata": {
        "id": "eOtcnFureYzf"
      },
      "execution_count": null,
      "outputs": []
    },
    {
      "cell_type": "code",
      "source": [
        "!export PYTHONPATH=$PWD"
      ],
      "metadata": {
        "id": "z0_7XYS_Y_Fg"
      },
      "execution_count": null,
      "outputs": []
    },
    {
      "cell_type": "code",
      "source": [
        "!export PYTORCH_CUDA_ALLOC_CONF=max_split_size_mb:1000"
      ],
      "metadata": {
        "id": "6dlkRIHH13lC"
      },
      "execution_count": null,
      "outputs": []
    },
    {
      "cell_type": "code",
      "source": [
        " import torch\n",
        " torch.cuda.empty_cache()"
      ],
      "metadata": {
        "id": "iiCxZ7K44AMr"
      },
      "execution_count": null,
      "outputs": []
    },
    {
      "cell_type": "markdown",
      "source": [
        "next instruction takes a while to do anything. Wait!\n",
        "Then open the link that appears after the text message \"Open URL in browser: NgrokTunnel: \"\n",
        "\n",
        "then wait again for the app to load for the first time\n"
      ],
      "metadata": {
        "id": "s7YWrWIeEmGn"
      }
    },
    {
      "cell_type": "markdown",
      "source": [],
      "metadata": {
        "id": "UaRRlHb139nN"
      }
    },
    {
      "cell_type": "code",
      "source": [
        "!python run_app.py"
      ],
      "metadata": {
        "id": "x4_vh89Ed2cz"
      },
      "execution_count": null,
      "outputs": []
    },
    {
      "cell_type": "code",
      "source": [],
      "metadata": {
        "id": "B57bkHu94DNe"
      },
      "execution_count": null,
      "outputs": []
    }
  ]
}